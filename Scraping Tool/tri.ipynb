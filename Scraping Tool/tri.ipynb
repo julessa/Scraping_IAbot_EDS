{
 "cells": [
  {
   "cell_type": "code",
   "execution_count": 1,
   "metadata": {},
   "outputs": [],
   "source": [
    "import pandas as pd\n",
    "import json"
   ]
  },
  {
   "cell_type": "code",
   "execution_count": 2,
   "metadata": {},
   "outputs": [
    {
     "name": "stdout",
     "output_type": "stream",
     "text": [
      "Fichier filtré enregistré sous : filtered_output.json\n"
     ]
    }
   ],
   "source": [
    "# Charger les données JSON\n",
    "def filter_json(file_path, output_path):\n",
    "    with open(file_path, \"r\", encoding=\"utf-8\") as file:\n",
    "        data = json.load(file)\n",
    "    \n",
    "    # Transformer en DataFrame\n",
    "    df = pd.DataFrame(data)\n",
    "    \n",
    "    # Filtrer les entrées où 'event' est vide ou contient \"En savoir plus...\"\n",
    "    df_filtered = df[(df['event'].notna()) & (df['event'].str.strip() != \"\") & (df['event'] != \"En savoir plus...\")]\n",
    "    \n",
    "    # Sauvegarder le JSON filtré\n",
    "    df_filtered.to_json(output_path, orient=\"records\", force_ascii=False, indent=4)\n",
    "    \n",
    "    print(f\"Fichier filtré enregistré sous : {output_path}\")\n",
    "\n",
    "# Exemple d'utilisation\n",
    "filter_json(\"Res_scrap_notri.json\", \"filtered_output.json\")"
   ]
  }
 ],
 "metadata": {
  "kernelspec": {
   "display_name": "Python 3",
   "language": "python",
   "name": "python3"
  },
  "language_info": {
   "codemirror_mode": {
    "name": "ipython",
    "version": 3
   },
   "file_extension": ".py",
   "mimetype": "text/x-python",
   "name": "python",
   "nbconvert_exporter": "python",
   "pygments_lexer": "ipython3",
   "version": "3.10.11"
  }
 },
 "nbformat": 4,
 "nbformat_minor": 2
}
