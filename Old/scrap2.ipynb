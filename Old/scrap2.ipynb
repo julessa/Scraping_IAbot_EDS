{
 "cells": [
  {
   "cell_type": "code",
   "execution_count": 5,
   "metadata": {},
   "outputs": [],
   "source": [
    "import requests\n",
    "from bs4 import BeautifulSoup\n",
    "import json"
   ]
  },
  {
   "cell_type": "code",
   "execution_count": 4,
   "metadata": {},
   "outputs": [],
   "source": [
    "def scrape_herodote():\n",
    "    url = \"https://www.herodote.net/La_Grande_Guerre_ou_Premiere_Guerre_mondiale-synthese-60.php\"\n",
    "    headers = {\"User-Agent\": \"Mozilla/5.0 (Windows NT 10.0; Win64; x64) AppleWebKit/537.36 (KHTML, like Gecko) Chrome/91.0.4472.124 Safari/537.36\"}\n",
    "    \n",
    "    try:\n",
    "        response = requests.get(url, headers=headers)\n",
    "        response.raise_for_status()\n",
    "    except requests.exceptions.RequestException as e:\n",
    "        print(f\"Erreur lors de la requête : {e}\")\n",
    "        return None\n",
    "    \n",
    "    soup = BeautifulSoup(response.text, 'html.parser')\n",
    "    \n",
    "    # Extraire les dates et événements associés\n",
    "    data = []\n",
    "    for element in soup.find_all('strong'):  # Supposant que les dates sont en balise <strong>\n",
    "        date_text = element.get_text(strip=True)\n",
    "        next_sibling = element.find_next_sibling()\n",
    "        if next_sibling and next_sibling.name == \"p\":\n",
    "            event_text = next_sibling.get_text(strip=True)\n",
    "            data.append({\"date\": date_text, \"event\": event_text})\n",
    "    \n",
    "    return data"
   ]
  },
  {
   "cell_type": "code",
   "execution_count": 6,
   "metadata": {},
   "outputs": [],
   "source": [
    "data = scrape_herodote()\n",
    "if data:\n",
    "    with open(\"herodote_data.json\", \"w\", encoding=\"utf-8\") as json_file:\n",
    "        json.dump(data, json_file, ensure_ascii=False, indent=4)\n",
    "    \n",
    "    from IPython.display import display, JSON\n",
    "    display(JSON(data))"
   ]
  }
 ],
 "metadata": {
  "kernelspec": {
   "display_name": "Python 3",
   "language": "python",
   "name": "python3"
  },
  "language_info": {
   "codemirror_mode": {
    "name": "ipython",
    "version": 3
   },
   "file_extension": ".py",
   "mimetype": "text/x-python",
   "name": "python",
   "nbconvert_exporter": "python",
   "pygments_lexer": "ipython3",
   "version": "3.10.11"
  }
 },
 "nbformat": 4,
 "nbformat_minor": 2
}
